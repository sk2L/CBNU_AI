{
 "cells": [
  {
   "cell_type": "code",
   "execution_count": 34,
   "id": "799e5fac",
   "metadata": {},
   "outputs": [],
   "source": [
    "import pandas as pd\n",
    "\n",
    "# 1. 불필요한 열 제거\n",
    "data = pd.read_csv('insurance.csv')\n",
    "# insurance.csv 파일에 Number 열 없음\n",
    "# data = data.drop(columns=['Number'])\n",
    "\n",
    "# 2. 중복 데이터 제거\n",
    "data = data.drop_duplicates()\n",
    "\n",
    "# 3. Null 값 제거\n",
    "data = data.dropna()\n",
    "\n",
    "# 4. 열 이름 변경\n",
    "data = data.rename(columns={'Sex': 'sex', 'Insurance Fee': 'charges'})\n",
    "\n",
    "# 5. 행 값 바꾸기\n",
    "data['sex'] = data['sex'].replace({'female': 1, 'male': 0})\n",
    "\n",
    "# 6. 이상 값 처리\n",
    "def handle_outliers(data, column):\n",
    "    Q1 = data[column].quantile(0.25)\n",
    "    Q3 = data[column].quantile(0.75)\n",
    "    IQR = Q3 - Q1\n",
    "    lower_bound = Q1 - 1.5 * IQR\n",
    "    upper_bound = Q3 + 1.5 * IQR\n",
    "    data = data[(data[column] >= lower_bound) & (data[column] <= upper_bound)]\n",
    "    return data\n",
    "\n",
    "# \"age,\" \"bmi,\" \"children,\", charges\"에 대한 이상 값 처리\n",
    "columns_to_handle = [\"age\", \"bmi\", \"children\", \"charges\"]\n",
    "for column in columns_to_handle:\n",
    "    data = handle_outliers(data, column)\n",
    "\n",
    "# 7. Min-max 정규화\n",
    "def min_max_scaling(data, columns):\n",
    "    for column in columns:\n",
    "        data[column] = (data[column] - data[column].min()) / (data[column].max() - data[column].min())\n",
    "    return data\n",
    "\n",
    "data = min_max_scaling(data, ['age', 'bmi', 'charges'])\n",
    "\n",
    "# 8. 'charges' 컬럼과 상관 관계가 없는 컬럼 삭제\n",
    "# 상관 관계 임계값 설정\n",
    "correlation_threshold = 0.1\n",
    "\n",
    "# 'charges' 컬럼과의 상관 관계 계산\n",
    "correlation_with_charges = data.corr()['charges']\n",
    "\n",
    "# 상관 관계가 임계값 이하인 컬럼 선택\n",
    "columns_to_keep = correlation_with_charges[abs(correlation_with_charges) > correlation_threshold].index\n",
    "\n",
    "# 필요한 열만 남기고 나머지 열 삭제\n",
    "data = data[columns_to_keep]\n",
    "\n",
    "# 결과 데이터프레임 저장\n",
    "data.to_csv('processed_insurance.csv', index=False)"
   ]
  },
  {
   "cell_type": "code",
   "execution_count": 35,
   "id": "28ea0a2d",
   "metadata": {},
   "outputs": [
    {
     "name": "stdout",
     "output_type": "stream",
     "text": [
      "           age   charges\n",
      "0     0.021739  0.475058\n",
      "1     0.000000  0.018193\n",
      "2     0.217391  0.100285\n",
      "3     0.326087  0.628746\n",
      "4     0.304348  0.082727\n",
      "...        ...       ...\n",
      "1333  0.695652  0.285663\n",
      "1334  0.000000  0.032672\n",
      "1335  0.000000  0.015309\n",
      "1336  0.065217  0.026704\n",
      "1337  0.934783  0.844436\n",
      "\n",
      "[1190 rows x 2 columns]\n"
     ]
    }
   ],
   "source": [
    "print(data)"
   ]
  }
 ],
 "metadata": {
  "kernelspec": {
   "display_name": "Python 3 (ipykernel)",
   "language": "python",
   "name": "python3"
  },
  "language_info": {
   "codemirror_mode": {
    "name": "ipython",
    "version": 3
   },
   "file_extension": ".py",
   "mimetype": "text/x-python",
   "name": "python",
   "nbconvert_exporter": "python",
   "pygments_lexer": "ipython3",
   "version": "3.9.13"
  }
 },
 "nbformat": 4,
 "nbformat_minor": 5
}
